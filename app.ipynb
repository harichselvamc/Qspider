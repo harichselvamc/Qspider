{
 "cells": [
  {
   "cell_type": "code",
   "execution_count": 27,
   "metadata": {},
   "outputs": [
    {
     "data": {
      "text/plain": [
       "'0246'"
      ]
     },
     "execution_count": 27,
     "metadata": {},
     "output_type": "execute_result"
    }
   ],
   "source": [
    "name=\"01234567\"\n",
    "name[::2]"
   ]
  },
  {
   "cell_type": "code",
   "execution_count": 7,
   "metadata": {},
   "outputs": [],
   "source": [
    "f=open(\"test.txt\")\n",
    "# print(f.readline())\n",
    "# print(f.readline())"
   ]
  },
  {
   "cell_type": "code",
   "execution_count": 8,
   "metadata": {},
   "outputs": [
    {
     "name": "stdout",
     "output_type": "stream",
     "text": [
      "['first\\n', 'second\\n', 'third\\n', 'fourth']\n"
     ]
    }
   ],
   "source": [
    "print(f.readlines())\n",
    "f.close()"
   ]
  },
  {
   "cell_type": "code",
   "execution_count": 11,
   "metadata": {},
   "outputs": [
    {
     "name": "stdout",
     "output_type": "stream",
     "text": [
      "first\n",
      "\n",
      "second\n",
      "\n",
      "first\n",
      "\n"
     ]
    }
   ],
   "source": [
    "with open(\"test.txt\") as f:\n",
    "    print(f.readline())\n",
    "    print(f.readline())\n",
    "\n",
    "f=open(\"test.txt\")\n",
    "print(f.readline())\n"
   ]
  },
  {
   "cell_type": "code",
   "execution_count": 3,
   "metadata": {},
   "outputs": [
    {
     "name": "stdout",
     "output_type": "stream",
     "text": [
      "False\n"
     ]
    }
   ],
   "source": [
    "a=21\n",
    "print(a%2==0)"
   ]
  },
  {
   "cell_type": "code",
   "execution_count": 4,
   "metadata": {},
   "outputs": [
    {
     "data": {
      "text/plain": [
       "120"
      ]
     },
     "execution_count": 4,
     "metadata": {},
     "output_type": "execute_result"
    }
   ],
   "source": [
    "5*4*3*2*1"
   ]
  },
  {
   "cell_type": "code",
   "execution_count": null,
   "metadata": {},
   "outputs": [
    {
     "name": "stdout",
     "output_type": "stream",
     "text": [
      "The first principle: Don't fool yourself, and remember, you are the easiest person to fool.\n",
      "Stay curious. Stay honest. Keep growing.\n"
     ]
    }
   ],
   "source": [
    "# Learning starts with honesty\n",
    "print(\"\"\"The first principle: Don't fool yourself, and remember, you are the easiest person to fool.\"\"\")\n",
    "print(\"Stay curious. Stay honest. Keep growing.\")\n"
   ]
  },
  {
   "cell_type": "code",
   "execution_count": 2,
   "metadata": {},
   "outputs": [
    {
     "name": "stdout",
     "output_type": "stream",
     "text": [
      "Collecting pydub\n",
      "  Downloading pydub-0.25.1-py2.py3-none-any.whl.metadata (1.4 kB)\n",
      "Requirement already satisfied: numpy in c:\\users\\haric\\anaconda3\\lib\\site-packages (2.0.0)\n",
      "Downloading pydub-0.25.1-py2.py3-none-any.whl (32 kB)\n",
      "Installing collected packages: pydub\n",
      "Successfully installed pydub-0.25.1\n"
     ]
    }
   ],
   "source": [
    "!pip install pydub numpy\n"
   ]
  },
  {
   "cell_type": "code",
   "execution_count": 6,
   "metadata": {},
   "outputs": [
    {
     "name": "stdout",
     "output_type": "stream",
     "text": [
      "Generating ambient music...\n",
      "Audio saved as c:\\Users\\haric\\OneDrive\\Desktop\\study\\ambient_music.wav\n"
     ]
    },
    {
     "ename": "PermissionError",
     "evalue": "[Errno 13] Permission denied: 'C:\\\\Users\\\\haric\\\\AppData\\\\Local\\\\Temp\\\\tmpbqvlyde3.wav'",
     "output_type": "error",
     "traceback": [
      "\u001b[1;31m---------------------------------------------------------------------------\u001b[0m",
      "\u001b[1;31mPermissionError\u001b[0m                           Traceback (most recent call last)",
      "Cell \u001b[1;32mIn[6], line 51\u001b[0m\n\u001b[0;32m     49\u001b[0m \u001b[38;5;28mprint\u001b[39m(\u001b[38;5;124m\"\u001b[39m\u001b[38;5;124mGenerating ambient music...\u001b[39m\u001b[38;5;124m\"\u001b[39m)\n\u001b[0;32m     50\u001b[0m audio_data, sample_rate \u001b[38;5;241m=\u001b[39m create_ambient_music()\n\u001b[1;32m---> 51\u001b[0m save_and_play_audio(audio_data, sample_rate)\n",
      "Cell \u001b[1;32mIn[6], line 45\u001b[0m, in \u001b[0;36msave_and_play_audio\u001b[1;34m(audio_data, sample_rate, filename)\u001b[0m\n\u001b[0;32m     42\u001b[0m \u001b[38;5;28mprint\u001b[39m(\u001b[38;5;124mf\u001b[39m\u001b[38;5;124m\"\u001b[39m\u001b[38;5;124mAudio saved as \u001b[39m\u001b[38;5;132;01m{\u001b[39;00moutput_path\u001b[38;5;132;01m}\u001b[39;00m\u001b[38;5;124m\"\u001b[39m)\n\u001b[0;32m     44\u001b[0m \u001b[38;5;66;03m# Play the audio\u001b[39;00m\n\u001b[1;32m---> 45\u001b[0m play(audio_segment)\n",
      "File \u001b[1;32mc:\\Users\\haric\\anaconda3\\Lib\\site-packages\\pydub\\playback.py:71\u001b[0m, in \u001b[0;36mplay\u001b[1;34m(audio_segment)\u001b[0m\n\u001b[0;32m     68\u001b[0m \u001b[38;5;28;01melse\u001b[39;00m:\n\u001b[0;32m     69\u001b[0m     \u001b[38;5;28;01mreturn\u001b[39;00m\n\u001b[1;32m---> 71\u001b[0m _play_with_ffplay(audio_segment)\n",
      "File \u001b[1;32mc:\\Users\\haric\\anaconda3\\Lib\\site-packages\\pydub\\playback.py:15\u001b[0m, in \u001b[0;36m_play_with_ffplay\u001b[1;34m(seg)\u001b[0m\n\u001b[0;32m     13\u001b[0m PLAYER \u001b[38;5;241m=\u001b[39m get_player_name()\n\u001b[0;32m     14\u001b[0m \u001b[38;5;28;01mwith\u001b[39;00m NamedTemporaryFile(\u001b[38;5;124m\"\u001b[39m\u001b[38;5;124mw+b\u001b[39m\u001b[38;5;124m\"\u001b[39m, suffix\u001b[38;5;241m=\u001b[39m\u001b[38;5;124m\"\u001b[39m\u001b[38;5;124m.wav\u001b[39m\u001b[38;5;124m\"\u001b[39m) \u001b[38;5;28;01mas\u001b[39;00m f:\n\u001b[1;32m---> 15\u001b[0m     seg\u001b[38;5;241m.\u001b[39mexport(f\u001b[38;5;241m.\u001b[39mname, \u001b[38;5;124m\"\u001b[39m\u001b[38;5;124mwav\u001b[39m\u001b[38;5;124m\"\u001b[39m)\n\u001b[0;32m     16\u001b[0m     subprocess\u001b[38;5;241m.\u001b[39mcall([PLAYER, \u001b[38;5;124m\"\u001b[39m\u001b[38;5;124m-nodisp\u001b[39m\u001b[38;5;124m\"\u001b[39m, \u001b[38;5;124m\"\u001b[39m\u001b[38;5;124m-autoexit\u001b[39m\u001b[38;5;124m\"\u001b[39m, \u001b[38;5;124m\"\u001b[39m\u001b[38;5;124m-hide_banner\u001b[39m\u001b[38;5;124m\"\u001b[39m, f\u001b[38;5;241m.\u001b[39mname])\n",
      "File \u001b[1;32mc:\\Users\\haric\\anaconda3\\Lib\\site-packages\\pydub\\audio_segment.py:867\u001b[0m, in \u001b[0;36mAudioSegment.export\u001b[1;34m(self, out_f, format, codec, bitrate, parameters, tags, id3v2_version, cover)\u001b[0m\n\u001b[0;32m    861\u001b[0m \u001b[38;5;28;01mif\u001b[39;00m \u001b[38;5;28mformat\u001b[39m \u001b[38;5;241m==\u001b[39m \u001b[38;5;124m\"\u001b[39m\u001b[38;5;124mraw\u001b[39m\u001b[38;5;124m\"\u001b[39m \u001b[38;5;129;01mand\u001b[39;00m (codec \u001b[38;5;129;01mis\u001b[39;00m \u001b[38;5;129;01mnot\u001b[39;00m \u001b[38;5;28;01mNone\u001b[39;00m \u001b[38;5;129;01mor\u001b[39;00m parameters \u001b[38;5;129;01mis\u001b[39;00m \u001b[38;5;129;01mnot\u001b[39;00m \u001b[38;5;28;01mNone\u001b[39;00m):\n\u001b[0;32m    862\u001b[0m     \u001b[38;5;28;01mraise\u001b[39;00m \u001b[38;5;167;01mAttributeError\u001b[39;00m(\n\u001b[0;32m    863\u001b[0m             \u001b[38;5;124m'\u001b[39m\u001b[38;5;124mCan not invoke ffmpeg when export format is \u001b[39m\u001b[38;5;124m\"\u001b[39m\u001b[38;5;124mraw\u001b[39m\u001b[38;5;124m\"\u001b[39m\u001b[38;5;124m; \u001b[39m\u001b[38;5;124m'\u001b[39m\n\u001b[0;32m    864\u001b[0m             \u001b[38;5;124m'\u001b[39m\u001b[38;5;124mspecify an ffmpeg raw format like format=\u001b[39m\u001b[38;5;124m\"\u001b[39m\u001b[38;5;124ms16le\u001b[39m\u001b[38;5;124m\"\u001b[39m\u001b[38;5;124m instead \u001b[39m\u001b[38;5;124m'\u001b[39m\n\u001b[0;32m    865\u001b[0m             \u001b[38;5;124m'\u001b[39m\u001b[38;5;124mor call export(format=\u001b[39m\u001b[38;5;124m\"\u001b[39m\u001b[38;5;124mraw\u001b[39m\u001b[38;5;124m\"\u001b[39m\u001b[38;5;124m) with no codec or parameters\u001b[39m\u001b[38;5;124m'\u001b[39m)\n\u001b[1;32m--> 867\u001b[0m out_f, _ \u001b[38;5;241m=\u001b[39m _fd_or_path_or_tempfile(out_f, \u001b[38;5;124m'\u001b[39m\u001b[38;5;124mwb+\u001b[39m\u001b[38;5;124m'\u001b[39m)\n\u001b[0;32m    868\u001b[0m out_f\u001b[38;5;241m.\u001b[39mseek(\u001b[38;5;241m0\u001b[39m)\n\u001b[0;32m    870\u001b[0m \u001b[38;5;28;01mif\u001b[39;00m \u001b[38;5;28mformat\u001b[39m \u001b[38;5;241m==\u001b[39m \u001b[38;5;124m\"\u001b[39m\u001b[38;5;124mraw\u001b[39m\u001b[38;5;124m\"\u001b[39m:\n",
      "File \u001b[1;32mc:\\Users\\haric\\anaconda3\\Lib\\site-packages\\pydub\\utils.py:60\u001b[0m, in \u001b[0;36m_fd_or_path_or_tempfile\u001b[1;34m(fd, mode, tempfile)\u001b[0m\n\u001b[0;32m     57\u001b[0m     close_fd \u001b[38;5;241m=\u001b[39m \u001b[38;5;28;01mTrue\u001b[39;00m\n\u001b[0;32m     59\u001b[0m \u001b[38;5;28;01mif\u001b[39;00m \u001b[38;5;28misinstance\u001b[39m(fd, basestring):\n\u001b[1;32m---> 60\u001b[0m     fd \u001b[38;5;241m=\u001b[39m \u001b[38;5;28mopen\u001b[39m(fd, mode\u001b[38;5;241m=\u001b[39mmode)\n\u001b[0;32m     61\u001b[0m     close_fd \u001b[38;5;241m=\u001b[39m \u001b[38;5;28;01mTrue\u001b[39;00m\n\u001b[0;32m     63\u001b[0m \u001b[38;5;28;01mtry\u001b[39;00m:\n",
      "\u001b[1;31mPermissionError\u001b[0m: [Errno 13] Permission denied: 'C:\\\\Users\\\\haric\\\\AppData\\\\Local\\\\Temp\\\\tmpbqvlyde3.wav'"
     ]
    }
   ],
   "source": [
    "import numpy as np\n",
    "from pydub import AudioSegment\n",
    "from pydub.playback import play\n",
    "import random\n",
    "import os\n",
    "\n",
    "# Function to generate a sine wave\n",
    "def generate_sine_wave(frequency, duration, sample_rate=44100, amplitude=0.5):\n",
    "    t = np.linspace(0, duration, int(sample_rate * duration), False)\n",
    "    wave = amplitude * np.sin(2 * np.pi * frequency * t)\n",
    "    return wave\n",
    "\n",
    "# Generate ambient tones\n",
    "def create_ambient_music():\n",
    "    sample_rate = 44100  # 44.1 kHz sample rate\n",
    "    duration = 3  # Duration of each note in seconds\n",
    "    scale = [261.63, 293.66, 329.63, 349.23, 392.00, 440.00, 493.88]  # C major frequencies\n",
    "    ambient_track = np.array([])\n",
    "\n",
    "    for _ in range(20):  # Create 20 notes\n",
    "        frequency = random.choice(scale)\n",
    "        wave = generate_sine_wave(frequency, duration, sample_rate)\n",
    "        ambient_track = np.concatenate((ambient_track, wave))  # Add to the track\n",
    "\n",
    "    # Normalize to 16-bit audio\n",
    "    audio_data = (ambient_track * 32767).astype(np.int16)\n",
    "    return audio_data, sample_rate\n",
    "\n",
    "# Save the audio to a file and play it\n",
    "def save_and_play_audio(audio_data, sample_rate, filename=\"ambient_music.wav\"):\n",
    "    # Create a Pydub AudioSegment from numpy array\n",
    "    audio_segment = AudioSegment(\n",
    "        audio_data.tobytes(),\n",
    "        frame_rate=sample_rate,\n",
    "        sample_width=audio_data.dtype.itemsize,\n",
    "        channels=1\n",
    "    )\n",
    "\n",
    "    # Save to a specific directory (ensure it has write permissions)\n",
    "    output_path = os.path.join(os.getcwd(), filename)\n",
    "    audio_segment.export(output_path, format=\"wav\")\n",
    "    print(f\"Audio saved as {output_path}\")\n",
    "    \n",
    "    # Play the audio\n",
    "    play(audio_segment)\n",
    "\n",
    "# Main script\n",
    "if __name__ == \"__main__\":\n",
    "    print(\"Generating ambient music...\")\n",
    "    audio_data, sample_rate = create_ambient_music()\n",
    "    save_and_play_audio(audio_data, sample_rate)\n"
   ]
  },
  {
   "cell_type": "code",
   "execution_count": 3,
   "metadata": {},
   "outputs": [
    {
     "name": "stdout",
     "output_type": "stream",
     "text": [
      "Generating music beats...\n",
      "Music beats saved as c:\\Users\\haric\\OneDrive\\Desktop\\study\\complex_music_beats.wav\n"
     ]
    },
    {
     "ename": "PermissionError",
     "evalue": "[Errno 13] Permission denied: 'C:\\\\Users\\\\haric\\\\AppData\\\\Local\\\\Temp\\\\tmpbbu2qg0c.wav'",
     "output_type": "error",
     "traceback": [
      "\u001b[1;31m---------------------------------------------------------------------------\u001b[0m",
      "\u001b[1;31mPermissionError\u001b[0m                           Traceback (most recent call last)",
      "Cell \u001b[1;32mIn[3], line 90\u001b[0m\n\u001b[0;32m     88\u001b[0m \u001b[38;5;28mprint\u001b[39m(\u001b[38;5;124m\"\u001b[39m\u001b[38;5;124mGenerating music beats...\u001b[39m\u001b[38;5;124m\"\u001b[39m)\n\u001b[0;32m     89\u001b[0m audio_data, sample_rate \u001b[38;5;241m=\u001b[39m create_music_beats()\n\u001b[1;32m---> 90\u001b[0m save_and_play_music(audio_data, sample_rate)\n",
      "Cell \u001b[1;32mIn[3], line 84\u001b[0m, in \u001b[0;36msave_and_play_music\u001b[1;34m(audio_data, sample_rate, filename)\u001b[0m\n\u001b[0;32m     82\u001b[0m audio_segment\u001b[38;5;241m.\u001b[39mexport(output_path, \u001b[38;5;28mformat\u001b[39m\u001b[38;5;241m=\u001b[39m\u001b[38;5;124m\"\u001b[39m\u001b[38;5;124mwav\u001b[39m\u001b[38;5;124m\"\u001b[39m)\n\u001b[0;32m     83\u001b[0m \u001b[38;5;28mprint\u001b[39m(\u001b[38;5;124mf\u001b[39m\u001b[38;5;124m\"\u001b[39m\u001b[38;5;124mMusic beats saved as \u001b[39m\u001b[38;5;132;01m{\u001b[39;00moutput_path\u001b[38;5;132;01m}\u001b[39;00m\u001b[38;5;124m\"\u001b[39m)\n\u001b[1;32m---> 84\u001b[0m play(audio_segment)\n",
      "File \u001b[1;32mc:\\Users\\haric\\anaconda3\\Lib\\site-packages\\pydub\\playback.py:71\u001b[0m, in \u001b[0;36mplay\u001b[1;34m(audio_segment)\u001b[0m\n\u001b[0;32m     68\u001b[0m \u001b[38;5;28;01melse\u001b[39;00m:\n\u001b[0;32m     69\u001b[0m     \u001b[38;5;28;01mreturn\u001b[39;00m\n\u001b[1;32m---> 71\u001b[0m _play_with_ffplay(audio_segment)\n",
      "File \u001b[1;32mc:\\Users\\haric\\anaconda3\\Lib\\site-packages\\pydub\\playback.py:15\u001b[0m, in \u001b[0;36m_play_with_ffplay\u001b[1;34m(seg)\u001b[0m\n\u001b[0;32m     13\u001b[0m PLAYER \u001b[38;5;241m=\u001b[39m get_player_name()\n\u001b[0;32m     14\u001b[0m \u001b[38;5;28;01mwith\u001b[39;00m NamedTemporaryFile(\u001b[38;5;124m\"\u001b[39m\u001b[38;5;124mw+b\u001b[39m\u001b[38;5;124m\"\u001b[39m, suffix\u001b[38;5;241m=\u001b[39m\u001b[38;5;124m\"\u001b[39m\u001b[38;5;124m.wav\u001b[39m\u001b[38;5;124m\"\u001b[39m) \u001b[38;5;28;01mas\u001b[39;00m f:\n\u001b[1;32m---> 15\u001b[0m     seg\u001b[38;5;241m.\u001b[39mexport(f\u001b[38;5;241m.\u001b[39mname, \u001b[38;5;124m\"\u001b[39m\u001b[38;5;124mwav\u001b[39m\u001b[38;5;124m\"\u001b[39m)\n\u001b[0;32m     16\u001b[0m     subprocess\u001b[38;5;241m.\u001b[39mcall([PLAYER, \u001b[38;5;124m\"\u001b[39m\u001b[38;5;124m-nodisp\u001b[39m\u001b[38;5;124m\"\u001b[39m, \u001b[38;5;124m\"\u001b[39m\u001b[38;5;124m-autoexit\u001b[39m\u001b[38;5;124m\"\u001b[39m, \u001b[38;5;124m\"\u001b[39m\u001b[38;5;124m-hide_banner\u001b[39m\u001b[38;5;124m\"\u001b[39m, f\u001b[38;5;241m.\u001b[39mname])\n",
      "File \u001b[1;32mc:\\Users\\haric\\anaconda3\\Lib\\site-packages\\pydub\\audio_segment.py:867\u001b[0m, in \u001b[0;36mAudioSegment.export\u001b[1;34m(self, out_f, format, codec, bitrate, parameters, tags, id3v2_version, cover)\u001b[0m\n\u001b[0;32m    861\u001b[0m \u001b[38;5;28;01mif\u001b[39;00m \u001b[38;5;28mformat\u001b[39m \u001b[38;5;241m==\u001b[39m \u001b[38;5;124m\"\u001b[39m\u001b[38;5;124mraw\u001b[39m\u001b[38;5;124m\"\u001b[39m \u001b[38;5;129;01mand\u001b[39;00m (codec \u001b[38;5;129;01mis\u001b[39;00m \u001b[38;5;129;01mnot\u001b[39;00m \u001b[38;5;28;01mNone\u001b[39;00m \u001b[38;5;129;01mor\u001b[39;00m parameters \u001b[38;5;129;01mis\u001b[39;00m \u001b[38;5;129;01mnot\u001b[39;00m \u001b[38;5;28;01mNone\u001b[39;00m):\n\u001b[0;32m    862\u001b[0m     \u001b[38;5;28;01mraise\u001b[39;00m \u001b[38;5;167;01mAttributeError\u001b[39;00m(\n\u001b[0;32m    863\u001b[0m             \u001b[38;5;124m'\u001b[39m\u001b[38;5;124mCan not invoke ffmpeg when export format is \u001b[39m\u001b[38;5;124m\"\u001b[39m\u001b[38;5;124mraw\u001b[39m\u001b[38;5;124m\"\u001b[39m\u001b[38;5;124m; \u001b[39m\u001b[38;5;124m'\u001b[39m\n\u001b[0;32m    864\u001b[0m             \u001b[38;5;124m'\u001b[39m\u001b[38;5;124mspecify an ffmpeg raw format like format=\u001b[39m\u001b[38;5;124m\"\u001b[39m\u001b[38;5;124ms16le\u001b[39m\u001b[38;5;124m\"\u001b[39m\u001b[38;5;124m instead \u001b[39m\u001b[38;5;124m'\u001b[39m\n\u001b[0;32m    865\u001b[0m             \u001b[38;5;124m'\u001b[39m\u001b[38;5;124mor call export(format=\u001b[39m\u001b[38;5;124m\"\u001b[39m\u001b[38;5;124mraw\u001b[39m\u001b[38;5;124m\"\u001b[39m\u001b[38;5;124m) with no codec or parameters\u001b[39m\u001b[38;5;124m'\u001b[39m)\n\u001b[1;32m--> 867\u001b[0m out_f, _ \u001b[38;5;241m=\u001b[39m _fd_or_path_or_tempfile(out_f, \u001b[38;5;124m'\u001b[39m\u001b[38;5;124mwb+\u001b[39m\u001b[38;5;124m'\u001b[39m)\n\u001b[0;32m    868\u001b[0m out_f\u001b[38;5;241m.\u001b[39mseek(\u001b[38;5;241m0\u001b[39m)\n\u001b[0;32m    870\u001b[0m \u001b[38;5;28;01mif\u001b[39;00m \u001b[38;5;28mformat\u001b[39m \u001b[38;5;241m==\u001b[39m \u001b[38;5;124m\"\u001b[39m\u001b[38;5;124mraw\u001b[39m\u001b[38;5;124m\"\u001b[39m:\n",
      "File \u001b[1;32mc:\\Users\\haric\\anaconda3\\Lib\\site-packages\\pydub\\utils.py:60\u001b[0m, in \u001b[0;36m_fd_or_path_or_tempfile\u001b[1;34m(fd, mode, tempfile)\u001b[0m\n\u001b[0;32m     57\u001b[0m     close_fd \u001b[38;5;241m=\u001b[39m \u001b[38;5;28;01mTrue\u001b[39;00m\n\u001b[0;32m     59\u001b[0m \u001b[38;5;28;01mif\u001b[39;00m \u001b[38;5;28misinstance\u001b[39m(fd, basestring):\n\u001b[1;32m---> 60\u001b[0m     fd \u001b[38;5;241m=\u001b[39m \u001b[38;5;28mopen\u001b[39m(fd, mode\u001b[38;5;241m=\u001b[39mmode)\n\u001b[0;32m     61\u001b[0m     close_fd \u001b[38;5;241m=\u001b[39m \u001b[38;5;28;01mTrue\u001b[39;00m\n\u001b[0;32m     63\u001b[0m \u001b[38;5;28;01mtry\u001b[39;00m:\n",
      "\u001b[1;31mPermissionError\u001b[0m: [Errno 13] Permission denied: 'C:\\\\Users\\\\haric\\\\AppData\\\\Local\\\\Temp\\\\tmpbbu2qg0c.wav'"
     ]
    }
   ],
   "source": [
    "import numpy as np\n",
    "from pydub import AudioSegment\n",
    "from pydub.playback import play\n",
    "import os\n",
    "\n",
    "# Function to generate a sine wave for a specific frequency and duration\n",
    "def generate_sine_wave(frequency, duration, sample_rate=44100, amplitude=0.5):\n",
    "    t = np.linspace(0, duration, int(sample_rate * duration), False)\n",
    "    wave = amplitude * np.sin(2 * np.pi * frequency * t)\n",
    "    return wave\n",
    "\n",
    "# Function to create a drum-like beat using sine wave and low frequencies\n",
    "def generate_drum_beat(duration=0.3, sample_rate=44100):\n",
    "    frequency = 60  # Low frequency for drum-like effect\n",
    "    sine_wave = generate_sine_wave(frequency, duration, sample_rate, amplitude=0.7)\n",
    "    sine_wave = sine_wave * np.exp(-np.linspace(0, 5, len(sine_wave)))  # Decay effect\n",
    "    return sine_wave\n",
    "\n",
    "# Function to create a snare-like beat using noise\n",
    "def generate_snare(duration=0.1, sample_rate=44100):\n",
    "    noise = np.random.uniform(-1, 1, int(sample_rate * duration))\n",
    "    envelope = np.linspace(1, 0, len(noise))  # Fade-out effect\n",
    "    snare = noise * envelope\n",
    "    return snare\n",
    "\n",
    "# Function to create a melodic tone\n",
    "def generate_melody(frequency, duration=0.5, sample_rate=44100):\n",
    "    return generate_sine_wave(frequency, duration, sample_rate, amplitude=0.4)\n",
    "\n",
    "# Function to combine beats into a rhythmic pattern\n",
    "def create_music_beats():\n",
    "    sample_rate = 44100\n",
    "    track = np.array([])\n",
    "\n",
    "    # Define a simple pattern: Kick -> Snare -> Kick -> Kick -> Snare\n",
    "    pattern = [\n",
    "        (\"kick\", 0.3),\n",
    "        (\"snare\", 0.1),\n",
    "        (\"kick\", 0.3),\n",
    "        (\"kick\", 0.3),\n",
    "        (\"snare\", 0.1),\n",
    "    ]\n",
    "\n",
    "    # Melody tones (optional layer)\n",
    "    melody_notes = [440, 554, 660, 880]  # A4, C#5, E5, A5 frequencies\n",
    "    melody_idx = 0\n",
    "\n",
    "    for i in range(16):  # Repeat the pattern for 16 bars\n",
    "        for sound, duration in pattern:\n",
    "            if sound == \"kick\":\n",
    "                beat = generate_drum_beat(duration)\n",
    "            elif sound == \"snare\":\n",
    "                beat = generate_snare(duration)\n",
    "            else:\n",
    "                beat = np.zeros(int(sample_rate * duration))\n",
    "\n",
    "            # Ensure melody matches beat duration\n",
    "            if i % 2 == 0 and melody_idx < len(melody_notes):\n",
    "                melody = generate_melody(melody_notes[melody_idx], duration)\n",
    "                if len(beat) > len(melody):\n",
    "                    melody = np.pad(melody, (0, len(beat) - len(melody)))\n",
    "                elif len(beat) < len(melody):\n",
    "                    beat = np.pad(beat, (0, len(melody) - len(beat)))\n",
    "                beat = beat + melody  # Layer melody over the beat\n",
    "                melody_idx = (melody_idx + 1) % len(melody_notes)\n",
    "\n",
    "            track = np.concatenate((track, beat))  # Add beat to the track\n",
    "\n",
    "    # Normalize audio\n",
    "    audio_data = (track * 32767 / np.max(np.abs(track))).astype(np.int16)\n",
    "    return audio_data, sample_rate\n",
    "\n",
    "# Save and play the audio\n",
    "def save_and_play_music(audio_data, sample_rate, filename=\"complex_music_beats.wav\"):\n",
    "    audio_segment = AudioSegment(\n",
    "        audio_data.tobytes(),\n",
    "        frame_rate=sample_rate,\n",
    "        sample_width=audio_data.dtype.itemsize,\n",
    "        channels=1\n",
    "    )\n",
    "    output_path = os.path.join(os.getcwd(), filename)\n",
    "    audio_segment.export(output_path, format=\"wav\")\n",
    "    print(f\"Music beats saved as {output_path}\")\n",
    "    play(audio_segment)\n",
    "\n",
    "# Main script\n",
    "if __name__ == \"__main__\":\n",
    "    print(\"Generating music beats...\")\n",
    "    audio_data, sample_rate = create_music_beats()\n",
    "    save_and_play_music(audio_data, sample_rate)\n"
   ]
  },
  {
   "cell_type": "code",
   "execution_count": 4,
   "metadata": {},
   "outputs": [
    {
     "name": "stdout",
     "output_type": "stream",
     "text": [
      "Generating music beats...\n",
      "Music beats saved as c:\\Users\\haric\\OneDrive\\Desktop\\study\\complex_music_beats.wav\n"
     ]
    },
    {
     "ename": "PermissionError",
     "evalue": "[Errno 13] Permission denied: 'C:\\\\Users\\\\haric\\\\AppData\\\\Local\\\\Temp\\\\tmpz3h44udb.wav'",
     "output_type": "error",
     "traceback": [
      "\u001b[1;31m---------------------------------------------------------------------------\u001b[0m",
      "\u001b[1;31mPermissionError\u001b[0m                           Traceback (most recent call last)",
      "Cell \u001b[1;32mIn[4], line 109\u001b[0m\n\u001b[0;32m    107\u001b[0m \u001b[38;5;28mprint\u001b[39m(\u001b[38;5;124m\"\u001b[39m\u001b[38;5;124mGenerating music beats...\u001b[39m\u001b[38;5;124m\"\u001b[39m)\n\u001b[0;32m    108\u001b[0m audio_data, sample_rate \u001b[38;5;241m=\u001b[39m create_music_beats()\n\u001b[1;32m--> 109\u001b[0m save_and_play_music(audio_data, sample_rate)\n",
      "Cell \u001b[1;32mIn[4], line 103\u001b[0m, in \u001b[0;36msave_and_play_music\u001b[1;34m(audio_data, sample_rate, filename)\u001b[0m\n\u001b[0;32m    101\u001b[0m audio_segment\u001b[38;5;241m.\u001b[39mexport(output_path, \u001b[38;5;28mformat\u001b[39m\u001b[38;5;241m=\u001b[39m\u001b[38;5;124m\"\u001b[39m\u001b[38;5;124mwav\u001b[39m\u001b[38;5;124m\"\u001b[39m)\n\u001b[0;32m    102\u001b[0m \u001b[38;5;28mprint\u001b[39m(\u001b[38;5;124mf\u001b[39m\u001b[38;5;124m\"\u001b[39m\u001b[38;5;124mMusic beats saved as \u001b[39m\u001b[38;5;132;01m{\u001b[39;00moutput_path\u001b[38;5;132;01m}\u001b[39;00m\u001b[38;5;124m\"\u001b[39m)\n\u001b[1;32m--> 103\u001b[0m play(audio_segment)\n",
      "File \u001b[1;32mc:\\Users\\haric\\anaconda3\\Lib\\site-packages\\pydub\\playback.py:71\u001b[0m, in \u001b[0;36mplay\u001b[1;34m(audio_segment)\u001b[0m\n\u001b[0;32m     68\u001b[0m \u001b[38;5;28;01melse\u001b[39;00m:\n\u001b[0;32m     69\u001b[0m     \u001b[38;5;28;01mreturn\u001b[39;00m\n\u001b[1;32m---> 71\u001b[0m _play_with_ffplay(audio_segment)\n",
      "File \u001b[1;32mc:\\Users\\haric\\anaconda3\\Lib\\site-packages\\pydub\\playback.py:15\u001b[0m, in \u001b[0;36m_play_with_ffplay\u001b[1;34m(seg)\u001b[0m\n\u001b[0;32m     13\u001b[0m PLAYER \u001b[38;5;241m=\u001b[39m get_player_name()\n\u001b[0;32m     14\u001b[0m \u001b[38;5;28;01mwith\u001b[39;00m NamedTemporaryFile(\u001b[38;5;124m\"\u001b[39m\u001b[38;5;124mw+b\u001b[39m\u001b[38;5;124m\"\u001b[39m, suffix\u001b[38;5;241m=\u001b[39m\u001b[38;5;124m\"\u001b[39m\u001b[38;5;124m.wav\u001b[39m\u001b[38;5;124m\"\u001b[39m) \u001b[38;5;28;01mas\u001b[39;00m f:\n\u001b[1;32m---> 15\u001b[0m     seg\u001b[38;5;241m.\u001b[39mexport(f\u001b[38;5;241m.\u001b[39mname, \u001b[38;5;124m\"\u001b[39m\u001b[38;5;124mwav\u001b[39m\u001b[38;5;124m\"\u001b[39m)\n\u001b[0;32m     16\u001b[0m     subprocess\u001b[38;5;241m.\u001b[39mcall([PLAYER, \u001b[38;5;124m\"\u001b[39m\u001b[38;5;124m-nodisp\u001b[39m\u001b[38;5;124m\"\u001b[39m, \u001b[38;5;124m\"\u001b[39m\u001b[38;5;124m-autoexit\u001b[39m\u001b[38;5;124m\"\u001b[39m, \u001b[38;5;124m\"\u001b[39m\u001b[38;5;124m-hide_banner\u001b[39m\u001b[38;5;124m\"\u001b[39m, f\u001b[38;5;241m.\u001b[39mname])\n",
      "File \u001b[1;32mc:\\Users\\haric\\anaconda3\\Lib\\site-packages\\pydub\\audio_segment.py:867\u001b[0m, in \u001b[0;36mAudioSegment.export\u001b[1;34m(self, out_f, format, codec, bitrate, parameters, tags, id3v2_version, cover)\u001b[0m\n\u001b[0;32m    861\u001b[0m \u001b[38;5;28;01mif\u001b[39;00m \u001b[38;5;28mformat\u001b[39m \u001b[38;5;241m==\u001b[39m \u001b[38;5;124m\"\u001b[39m\u001b[38;5;124mraw\u001b[39m\u001b[38;5;124m\"\u001b[39m \u001b[38;5;129;01mand\u001b[39;00m (codec \u001b[38;5;129;01mis\u001b[39;00m \u001b[38;5;129;01mnot\u001b[39;00m \u001b[38;5;28;01mNone\u001b[39;00m \u001b[38;5;129;01mor\u001b[39;00m parameters \u001b[38;5;129;01mis\u001b[39;00m \u001b[38;5;129;01mnot\u001b[39;00m \u001b[38;5;28;01mNone\u001b[39;00m):\n\u001b[0;32m    862\u001b[0m     \u001b[38;5;28;01mraise\u001b[39;00m \u001b[38;5;167;01mAttributeError\u001b[39;00m(\n\u001b[0;32m    863\u001b[0m             \u001b[38;5;124m'\u001b[39m\u001b[38;5;124mCan not invoke ffmpeg when export format is \u001b[39m\u001b[38;5;124m\"\u001b[39m\u001b[38;5;124mraw\u001b[39m\u001b[38;5;124m\"\u001b[39m\u001b[38;5;124m; \u001b[39m\u001b[38;5;124m'\u001b[39m\n\u001b[0;32m    864\u001b[0m             \u001b[38;5;124m'\u001b[39m\u001b[38;5;124mspecify an ffmpeg raw format like format=\u001b[39m\u001b[38;5;124m\"\u001b[39m\u001b[38;5;124ms16le\u001b[39m\u001b[38;5;124m\"\u001b[39m\u001b[38;5;124m instead \u001b[39m\u001b[38;5;124m'\u001b[39m\n\u001b[0;32m    865\u001b[0m             \u001b[38;5;124m'\u001b[39m\u001b[38;5;124mor call export(format=\u001b[39m\u001b[38;5;124m\"\u001b[39m\u001b[38;5;124mraw\u001b[39m\u001b[38;5;124m\"\u001b[39m\u001b[38;5;124m) with no codec or parameters\u001b[39m\u001b[38;5;124m'\u001b[39m)\n\u001b[1;32m--> 867\u001b[0m out_f, _ \u001b[38;5;241m=\u001b[39m _fd_or_path_or_tempfile(out_f, \u001b[38;5;124m'\u001b[39m\u001b[38;5;124mwb+\u001b[39m\u001b[38;5;124m'\u001b[39m)\n\u001b[0;32m    868\u001b[0m out_f\u001b[38;5;241m.\u001b[39mseek(\u001b[38;5;241m0\u001b[39m)\n\u001b[0;32m    870\u001b[0m \u001b[38;5;28;01mif\u001b[39;00m \u001b[38;5;28mformat\u001b[39m \u001b[38;5;241m==\u001b[39m \u001b[38;5;124m\"\u001b[39m\u001b[38;5;124mraw\u001b[39m\u001b[38;5;124m\"\u001b[39m:\n",
      "File \u001b[1;32mc:\\Users\\haric\\anaconda3\\Lib\\site-packages\\pydub\\utils.py:60\u001b[0m, in \u001b[0;36m_fd_or_path_or_tempfile\u001b[1;34m(fd, mode, tempfile)\u001b[0m\n\u001b[0;32m     57\u001b[0m     close_fd \u001b[38;5;241m=\u001b[39m \u001b[38;5;28;01mTrue\u001b[39;00m\n\u001b[0;32m     59\u001b[0m \u001b[38;5;28;01mif\u001b[39;00m \u001b[38;5;28misinstance\u001b[39m(fd, basestring):\n\u001b[1;32m---> 60\u001b[0m     fd \u001b[38;5;241m=\u001b[39m \u001b[38;5;28mopen\u001b[39m(fd, mode\u001b[38;5;241m=\u001b[39mmode)\n\u001b[0;32m     61\u001b[0m     close_fd \u001b[38;5;241m=\u001b[39m \u001b[38;5;28;01mTrue\u001b[39;00m\n\u001b[0;32m     63\u001b[0m \u001b[38;5;28;01mtry\u001b[39;00m:\n",
      "\u001b[1;31mPermissionError\u001b[0m: [Errno 13] Permission denied: 'C:\\\\Users\\\\haric\\\\AppData\\\\Local\\\\Temp\\\\tmpz3h44udb.wav'"
     ]
    }
   ],
   "source": [
    "import numpy as np\n",
    "from pydub import AudioSegment\n",
    "from pydub.playback import play\n",
    "import os\n",
    "\n",
    "# Function to generate a sine wave for a specific frequency and duration\n",
    "def generate_sine_wave(frequency, duration, sample_rate=44100, amplitude=0.5):\n",
    "    t = np.linspace(0, duration, int(sample_rate * duration), False)\n",
    "    wave = amplitude * np.sin(2 * np.pi * frequency * t)\n",
    "    return wave\n",
    "\n",
    "# Function to create a drum-like beat using sine wave and low frequencies\n",
    "def generate_drum_beat(duration=0.3, sample_rate=44100):\n",
    "    frequency = 60  # Low frequency for drum-like effect\n",
    "    sine_wave = generate_sine_wave(frequency, duration, sample_rate, amplitude=0.7)\n",
    "    sine_wave = sine_wave * np.exp(-np.linspace(0, 5, len(sine_wave)))  # Decay effect\n",
    "    return sine_wave\n",
    "\n",
    "# Function to create a snare-like beat using noise\n",
    "def generate_snare(duration=0.1, sample_rate=44100):\n",
    "    noise = np.random.uniform(-1, 1, int(sample_rate * duration))\n",
    "    envelope = np.linspace(1, 0, len(noise))  # Fade-out effect\n",
    "    snare = noise * envelope\n",
    "    return snare\n",
    "\n",
    "# Function to create hi-hat sound using high-pitched noise\n",
    "def generate_hi_hat(duration=0.05, sample_rate=44100):\n",
    "    noise = np.random.uniform(-1, 1, int(sample_rate * duration))\n",
    "    envelope = np.linspace(1, 0.5, len(noise))  # Slight fade\n",
    "    hi_hat = noise * envelope * 0.3  # Softer amplitude\n",
    "    return hi_hat\n",
    "\n",
    "# Function to create a melodic arpeggio\n",
    "def generate_arpeggio(notes, duration, sample_rate=44100):\n",
    "    arpeggio = np.array([])\n",
    "    note_duration = duration / len(notes)  # Split duration across notes\n",
    "    for note in notes:\n",
    "        wave = generate_sine_wave(note, note_duration, sample_rate, amplitude=0.4)\n",
    "        arpeggio = np.concatenate((arpeggio, wave))\n",
    "    return arpeggio\n",
    "\n",
    "# Function to combine beats into a rhythmic pattern\n",
    "def create_music_beats():\n",
    "    sample_rate = 44100\n",
    "    track = np.array([])\n",
    "\n",
    "    # Define beat pattern: kick, snare, and hi-hat\n",
    "    pattern = [\n",
    "        (\"kick\", 0.3),\n",
    "        (\"hi_hat\", 0.05),\n",
    "        (\"snare\", 0.1),\n",
    "        (\"hi_hat\", 0.05),\n",
    "        (\"kick\", 0.3),\n",
    "        (\"hi_hat\", 0.05),\n",
    "        (\"kick\", 0.3),\n",
    "        (\"snare\", 0.1),\n",
    "    ]\n",
    "\n",
    "    # Melody: Arpeggio notes (frequencies)\n",
    "    arpeggio_notes = [\n",
    "        [440, 554, 660],  # A4, C#5, E5\n",
    "        [392, 523, 659],  # G4, C5, E5\n",
    "        [349, 440, 554],  # F4, A4, C#5\n",
    "    ]\n",
    "\n",
    "    for bar in range(16):  # 16 bars of music\n",
    "        for sound, duration in pattern:\n",
    "            if sound == \"kick\":\n",
    "                beat = generate_drum_beat(duration)\n",
    "            elif sound == \"snare\":\n",
    "                beat = generate_snare(duration)\n",
    "            elif sound == \"hi_hat\":\n",
    "                beat = generate_hi_hat(duration)\n",
    "            else:\n",
    "                beat = np.zeros(int(sample_rate * duration))\n",
    "\n",
    "            # Add arpeggio every 4 bars\n",
    "            if bar % 4 == 0 and sound == \"kick\":\n",
    "                arpeggio = generate_arpeggio(arpeggio_notes[bar % len(arpeggio_notes)], duration)\n",
    "                if len(beat) > len(arpeggio):\n",
    "                    arpeggio = np.pad(arpeggio, (0, len(beat) - len(arpeggio)))\n",
    "                elif len(beat) < len(arpeggio):\n",
    "                    beat = np.pad(beat, (0, len(arpeggio) - len(beat)))\n",
    "                beat = beat + arpeggio\n",
    "\n",
    "            track = np.concatenate((track, beat))\n",
    "\n",
    "    # Normalize audio\n",
    "    audio_data = (track * 32767 / np.max(np.abs(track))).astype(np.int16)\n",
    "    return audio_data, sample_rate\n",
    "\n",
    "# Save and play the audio\n",
    "def save_and_play_music(audio_data, sample_rate, filename=\"complex_music_beats.wav\"):\n",
    "    audio_segment = AudioSegment(\n",
    "        audio_data.tobytes(),\n",
    "        frame_rate=sample_rate,\n",
    "        sample_width=audio_data.dtype.itemsize,\n",
    "        channels=1\n",
    "    )\n",
    "    output_path = os.path.join(os.getcwd(), filename)\n",
    "    audio_segment.export(output_path, format=\"wav\")\n",
    "    print(f\"Music beats saved as {output_path}\")\n",
    "    play(audio_segment)\n",
    "\n",
    "# Main script\n",
    "if __name__ == \"__main__\":\n",
    "    print(\"Generating music beats...\")\n",
    "    audio_data, sample_rate = create_music_beats()\n",
    "    save_and_play_music(audio_data, sample_rate)\n"
   ]
  },
  {
   "cell_type": "code",
   "execution_count": null,
   "metadata": {},
   "outputs": [],
   "source": []
  },
  {
   "cell_type": "code",
   "execution_count": 5,
   "metadata": {},
   "outputs": [
    {
     "name": "stdout",
     "output_type": "stream",
     "text": [
      "Generating enhanced drum beats...\n",
      "Music beats saved as c:\\Users\\haric\\OneDrive\\Desktop\\study\\enhanced_drum_beats.wav\n"
     ]
    },
    {
     "ename": "PermissionError",
     "evalue": "[Errno 13] Permission denied: 'C:\\\\Users\\\\haric\\\\AppData\\\\Local\\\\Temp\\\\tmp5ik_mi57.wav'",
     "output_type": "error",
     "traceback": [
      "\u001b[1;31m---------------------------------------------------------------------------\u001b[0m",
      "\u001b[1;31mPermissionError\u001b[0m                           Traceback (most recent call last)",
      "Cell \u001b[1;32mIn[5], line 109\u001b[0m\n\u001b[0;32m    107\u001b[0m \u001b[38;5;28mprint\u001b[39m(\u001b[38;5;124m\"\u001b[39m\u001b[38;5;124mGenerating enhanced drum beats...\u001b[39m\u001b[38;5;124m\"\u001b[39m)\n\u001b[0;32m    108\u001b[0m audio_data, sample_rate \u001b[38;5;241m=\u001b[39m create_music_beats()\n\u001b[1;32m--> 109\u001b[0m save_and_play_music(audio_data, sample_rate)\n",
      "Cell \u001b[1;32mIn[5], line 103\u001b[0m, in \u001b[0;36msave_and_play_music\u001b[1;34m(audio_data, sample_rate, filename)\u001b[0m\n\u001b[0;32m    101\u001b[0m audio_segment\u001b[38;5;241m.\u001b[39mexport(output_path, \u001b[38;5;28mformat\u001b[39m\u001b[38;5;241m=\u001b[39m\u001b[38;5;124m\"\u001b[39m\u001b[38;5;124mwav\u001b[39m\u001b[38;5;124m\"\u001b[39m)\n\u001b[0;32m    102\u001b[0m \u001b[38;5;28mprint\u001b[39m(\u001b[38;5;124mf\u001b[39m\u001b[38;5;124m\"\u001b[39m\u001b[38;5;124mMusic beats saved as \u001b[39m\u001b[38;5;132;01m{\u001b[39;00moutput_path\u001b[38;5;132;01m}\u001b[39;00m\u001b[38;5;124m\"\u001b[39m)\n\u001b[1;32m--> 103\u001b[0m play(audio_segment)\n",
      "File \u001b[1;32mc:\\Users\\haric\\anaconda3\\Lib\\site-packages\\pydub\\playback.py:71\u001b[0m, in \u001b[0;36mplay\u001b[1;34m(audio_segment)\u001b[0m\n\u001b[0;32m     68\u001b[0m \u001b[38;5;28;01melse\u001b[39;00m:\n\u001b[0;32m     69\u001b[0m     \u001b[38;5;28;01mreturn\u001b[39;00m\n\u001b[1;32m---> 71\u001b[0m _play_with_ffplay(audio_segment)\n",
      "File \u001b[1;32mc:\\Users\\haric\\anaconda3\\Lib\\site-packages\\pydub\\playback.py:15\u001b[0m, in \u001b[0;36m_play_with_ffplay\u001b[1;34m(seg)\u001b[0m\n\u001b[0;32m     13\u001b[0m PLAYER \u001b[38;5;241m=\u001b[39m get_player_name()\n\u001b[0;32m     14\u001b[0m \u001b[38;5;28;01mwith\u001b[39;00m NamedTemporaryFile(\u001b[38;5;124m\"\u001b[39m\u001b[38;5;124mw+b\u001b[39m\u001b[38;5;124m\"\u001b[39m, suffix\u001b[38;5;241m=\u001b[39m\u001b[38;5;124m\"\u001b[39m\u001b[38;5;124m.wav\u001b[39m\u001b[38;5;124m\"\u001b[39m) \u001b[38;5;28;01mas\u001b[39;00m f:\n\u001b[1;32m---> 15\u001b[0m     seg\u001b[38;5;241m.\u001b[39mexport(f\u001b[38;5;241m.\u001b[39mname, \u001b[38;5;124m\"\u001b[39m\u001b[38;5;124mwav\u001b[39m\u001b[38;5;124m\"\u001b[39m)\n\u001b[0;32m     16\u001b[0m     subprocess\u001b[38;5;241m.\u001b[39mcall([PLAYER, \u001b[38;5;124m\"\u001b[39m\u001b[38;5;124m-nodisp\u001b[39m\u001b[38;5;124m\"\u001b[39m, \u001b[38;5;124m\"\u001b[39m\u001b[38;5;124m-autoexit\u001b[39m\u001b[38;5;124m\"\u001b[39m, \u001b[38;5;124m\"\u001b[39m\u001b[38;5;124m-hide_banner\u001b[39m\u001b[38;5;124m\"\u001b[39m, f\u001b[38;5;241m.\u001b[39mname])\n",
      "File \u001b[1;32mc:\\Users\\haric\\anaconda3\\Lib\\site-packages\\pydub\\audio_segment.py:867\u001b[0m, in \u001b[0;36mAudioSegment.export\u001b[1;34m(self, out_f, format, codec, bitrate, parameters, tags, id3v2_version, cover)\u001b[0m\n\u001b[0;32m    861\u001b[0m \u001b[38;5;28;01mif\u001b[39;00m \u001b[38;5;28mformat\u001b[39m \u001b[38;5;241m==\u001b[39m \u001b[38;5;124m\"\u001b[39m\u001b[38;5;124mraw\u001b[39m\u001b[38;5;124m\"\u001b[39m \u001b[38;5;129;01mand\u001b[39;00m (codec \u001b[38;5;129;01mis\u001b[39;00m \u001b[38;5;129;01mnot\u001b[39;00m \u001b[38;5;28;01mNone\u001b[39;00m \u001b[38;5;129;01mor\u001b[39;00m parameters \u001b[38;5;129;01mis\u001b[39;00m \u001b[38;5;129;01mnot\u001b[39;00m \u001b[38;5;28;01mNone\u001b[39;00m):\n\u001b[0;32m    862\u001b[0m     \u001b[38;5;28;01mraise\u001b[39;00m \u001b[38;5;167;01mAttributeError\u001b[39;00m(\n\u001b[0;32m    863\u001b[0m             \u001b[38;5;124m'\u001b[39m\u001b[38;5;124mCan not invoke ffmpeg when export format is \u001b[39m\u001b[38;5;124m\"\u001b[39m\u001b[38;5;124mraw\u001b[39m\u001b[38;5;124m\"\u001b[39m\u001b[38;5;124m; \u001b[39m\u001b[38;5;124m'\u001b[39m\n\u001b[0;32m    864\u001b[0m             \u001b[38;5;124m'\u001b[39m\u001b[38;5;124mspecify an ffmpeg raw format like format=\u001b[39m\u001b[38;5;124m\"\u001b[39m\u001b[38;5;124ms16le\u001b[39m\u001b[38;5;124m\"\u001b[39m\u001b[38;5;124m instead \u001b[39m\u001b[38;5;124m'\u001b[39m\n\u001b[0;32m    865\u001b[0m             \u001b[38;5;124m'\u001b[39m\u001b[38;5;124mor call export(format=\u001b[39m\u001b[38;5;124m\"\u001b[39m\u001b[38;5;124mraw\u001b[39m\u001b[38;5;124m\"\u001b[39m\u001b[38;5;124m) with no codec or parameters\u001b[39m\u001b[38;5;124m'\u001b[39m)\n\u001b[1;32m--> 867\u001b[0m out_f, _ \u001b[38;5;241m=\u001b[39m _fd_or_path_or_tempfile(out_f, \u001b[38;5;124m'\u001b[39m\u001b[38;5;124mwb+\u001b[39m\u001b[38;5;124m'\u001b[39m)\n\u001b[0;32m    868\u001b[0m out_f\u001b[38;5;241m.\u001b[39mseek(\u001b[38;5;241m0\u001b[39m)\n\u001b[0;32m    870\u001b[0m \u001b[38;5;28;01mif\u001b[39;00m \u001b[38;5;28mformat\u001b[39m \u001b[38;5;241m==\u001b[39m \u001b[38;5;124m\"\u001b[39m\u001b[38;5;124mraw\u001b[39m\u001b[38;5;124m\"\u001b[39m:\n",
      "File \u001b[1;32mc:\\Users\\haric\\anaconda3\\Lib\\site-packages\\pydub\\utils.py:60\u001b[0m, in \u001b[0;36m_fd_or_path_or_tempfile\u001b[1;34m(fd, mode, tempfile)\u001b[0m\n\u001b[0;32m     57\u001b[0m     close_fd \u001b[38;5;241m=\u001b[39m \u001b[38;5;28;01mTrue\u001b[39;00m\n\u001b[0;32m     59\u001b[0m \u001b[38;5;28;01mif\u001b[39;00m \u001b[38;5;28misinstance\u001b[39m(fd, basestring):\n\u001b[1;32m---> 60\u001b[0m     fd \u001b[38;5;241m=\u001b[39m \u001b[38;5;28mopen\u001b[39m(fd, mode\u001b[38;5;241m=\u001b[39mmode)\n\u001b[0;32m     61\u001b[0m     close_fd \u001b[38;5;241m=\u001b[39m \u001b[38;5;28;01mTrue\u001b[39;00m\n\u001b[0;32m     63\u001b[0m \u001b[38;5;28;01mtry\u001b[39;00m:\n",
      "\u001b[1;31mPermissionError\u001b[0m: [Errno 13] Permission denied: 'C:\\\\Users\\\\haric\\\\AppData\\\\Local\\\\Temp\\\\tmp5ik_mi57.wav'"
     ]
    }
   ],
   "source": [
    "import numpy as np\n",
    "from pydub import AudioSegment\n",
    "from pydub.playback import play\n",
    "import os\n",
    "\n",
    "# Function to generate a sine wave for a specific frequency and duration\n",
    "def generate_sine_wave(frequency, duration, sample_rate=44100, amplitude=0.5):\n",
    "    t = np.linspace(0, duration, int(sample_rate * duration), False)\n",
    "    wave = amplitude * np.sin(2 * np.pi * frequency * t)\n",
    "    return wave\n",
    "\n",
    "# Generate a drum-like kick beat\n",
    "def generate_kick(duration=0.3, sample_rate=44100):\n",
    "    frequency = 50  # Low frequency for a deep kick drum\n",
    "    wave = generate_sine_wave(frequency, duration, sample_rate, amplitude=0.7)\n",
    "    wave = wave * np.exp(-np.linspace(0, 5, len(wave)))  # Decay effect\n",
    "    return wave\n",
    "\n",
    "# Generate a snare beat using noise\n",
    "def generate_snare(duration=0.1, sample_rate=44100):\n",
    "    noise = np.random.uniform(-1, 1, int(sample_rate * duration))\n",
    "    envelope = np.linspace(1, 0, len(noise))  # Fade-out effect\n",
    "    snare = noise * envelope * 0.5\n",
    "    return snare\n",
    "\n",
    "# Generate a hi-hat beat\n",
    "def generate_hi_hat(duration=0.05, sample_rate=44100):\n",
    "    noise = np.random.uniform(-1, 1, int(sample_rate * duration))\n",
    "    envelope = np.linspace(1, 0.5, len(noise))  # Fade-out effect\n",
    "    hi_hat = noise * envelope * 0.3\n",
    "    return hi_hat\n",
    "\n",
    "# Generate a tom drum beat\n",
    "def generate_tom(frequency=100, duration=0.2, sample_rate=44100):\n",
    "    wave = generate_sine_wave(frequency, duration, sample_rate, amplitude=0.6)\n",
    "    wave = wave * np.exp(-np.linspace(0, 5, len(wave)))  # Decay effect\n",
    "    return wave\n",
    "\n",
    "# Generate a clap sound\n",
    "def generate_clap(duration=0.15, sample_rate=44100):\n",
    "    noise = np.random.uniform(-1, 1, int(sample_rate * duration))\n",
    "    envelope = np.concatenate([\n",
    "        np.linspace(1, 0.8, int(len(noise) * 0.2)),\n",
    "        np.linspace(0.8, 0, int(len(noise) * 0.8))\n",
    "    ])\n",
    "    clap = noise * envelope * 0.4\n",
    "    return clap\n",
    "\n",
    "# Combine beats into a complex rhythmic pattern\n",
    "def create_music_beats():\n",
    "    sample_rate = 44100\n",
    "    track = np.array([])\n",
    "\n",
    "    # Define a complex beat pattern\n",
    "    pattern = [\n",
    "        (\"kick\", 0.3),\n",
    "        (\"hi_hat\", 0.05),\n",
    "        (\"snare\", 0.1),\n",
    "        (\"hi_hat\", 0.05),\n",
    "        (\"kick\", 0.3),\n",
    "        (\"tom\", 0.2),\n",
    "        (\"clap\", 0.15),\n",
    "        (\"hi_hat\", 0.05),\n",
    "        (\"kick\", 0.3),\n",
    "        (\"snare\", 0.1),\n",
    "        (\"hi_hat\", 0.05),\n",
    "        (\"tom\", 0.2),\n",
    "    ]\n",
    "\n",
    "    # Repeat the pattern with variations\n",
    "    for bar in range(16):  # 16 bars of music\n",
    "        for sound, duration in pattern:\n",
    "            if sound == \"kick\":\n",
    "                beat = generate_kick(duration)\n",
    "            elif sound == \"snare\":\n",
    "                beat = generate_snare(duration)\n",
    "            elif sound == \"hi_hat\":\n",
    "                beat = generate_hi_hat(duration)\n",
    "            elif sound == \"tom\":\n",
    "                beat = generate_tom(frequency=80 + (bar % 3) * 20, duration=duration)  # Vary tom pitch\n",
    "            elif sound == \"clap\":\n",
    "                beat = generate_clap(duration)\n",
    "            else:\n",
    "                beat = np.zeros(int(sample_rate * duration))\n",
    "\n",
    "            track = np.concatenate((track, beat))  # Add beat to the track\n",
    "\n",
    "    # Normalize the audio\n",
    "    audio_data = (track * 32767 / np.max(np.abs(track))).astype(np.int16)\n",
    "    return audio_data, sample_rate\n",
    "\n",
    "# Save and play the audio\n",
    "def save_and_play_music(audio_data, sample_rate, filename=\"enhanced_drum_beats.wav\"):\n",
    "    audio_segment = AudioSegment(\n",
    "        audio_data.tobytes(),\n",
    "        frame_rate=sample_rate,\n",
    "        sample_width=audio_data.dtype.itemsize,\n",
    "        channels=1\n",
    "    )\n",
    "    output_path = os.path.join(os.getcwd(), filename)\n",
    "    audio_segment.export(output_path, format=\"wav\")\n",
    "    print(f\"Music beats saved as {output_path}\")\n",
    "    play(audio_segment)\n",
    "\n",
    "# Main script\n",
    "if __name__ == \"__main__\":\n",
    "    print(\"Generating enhanced drum beats...\")\n",
    "    audio_data, sample_rate = create_music_beats()\n",
    "    save_and_play_music(audio_data, sample_rate)\n"
   ]
  },
  {
   "cell_type": "code",
   "execution_count": null,
   "metadata": {},
   "outputs": [],
   "source": []
  },
  {
   "cell_type": "code",
   "execution_count": 6,
   "metadata": {},
   "outputs": [
    {
     "name": "stdout",
     "output_type": "stream",
     "text": [
      "Generating music track...\n",
      "Music track saved as c:\\Users\\haric\\OneDrive\\Desktop\\study\\synth_ambient_track.wav\n"
     ]
    },
    {
     "ename": "PermissionError",
     "evalue": "[Errno 13] Permission denied: 'C:\\\\Users\\\\haric\\\\AppData\\\\Local\\\\Temp\\\\tmp__yagqkv.wav'",
     "output_type": "error",
     "traceback": [
      "\u001b[1;31m---------------------------------------------------------------------------\u001b[0m",
      "\u001b[1;31mPermissionError\u001b[0m                           Traceback (most recent call last)",
      "Cell \u001b[1;32mIn[6], line 113\u001b[0m\n\u001b[0;32m    111\u001b[0m \u001b[38;5;28mprint\u001b[39m(\u001b[38;5;124m\"\u001b[39m\u001b[38;5;124mGenerating music track...\u001b[39m\u001b[38;5;124m\"\u001b[39m)\n\u001b[0;32m    112\u001b[0m audio_data, sample_rate \u001b[38;5;241m=\u001b[39m create_music_track()\n\u001b[1;32m--> 113\u001b[0m save_and_play_music(audio_data, sample_rate)\n",
      "Cell \u001b[1;32mIn[6], line 107\u001b[0m, in \u001b[0;36msave_and_play_music\u001b[1;34m(audio_data, sample_rate, filename)\u001b[0m\n\u001b[0;32m    105\u001b[0m audio_segment\u001b[38;5;241m.\u001b[39mexport(output_path, \u001b[38;5;28mformat\u001b[39m\u001b[38;5;241m=\u001b[39m\u001b[38;5;124m\"\u001b[39m\u001b[38;5;124mwav\u001b[39m\u001b[38;5;124m\"\u001b[39m)\n\u001b[0;32m    106\u001b[0m \u001b[38;5;28mprint\u001b[39m(\u001b[38;5;124mf\u001b[39m\u001b[38;5;124m\"\u001b[39m\u001b[38;5;124mMusic track saved as \u001b[39m\u001b[38;5;132;01m{\u001b[39;00moutput_path\u001b[38;5;132;01m}\u001b[39;00m\u001b[38;5;124m\"\u001b[39m)\n\u001b[1;32m--> 107\u001b[0m play(audio_segment)\n",
      "File \u001b[1;32mc:\\Users\\haric\\anaconda3\\Lib\\site-packages\\pydub\\playback.py:71\u001b[0m, in \u001b[0;36mplay\u001b[1;34m(audio_segment)\u001b[0m\n\u001b[0;32m     68\u001b[0m \u001b[38;5;28;01melse\u001b[39;00m:\n\u001b[0;32m     69\u001b[0m     \u001b[38;5;28;01mreturn\u001b[39;00m\n\u001b[1;32m---> 71\u001b[0m _play_with_ffplay(audio_segment)\n",
      "File \u001b[1;32mc:\\Users\\haric\\anaconda3\\Lib\\site-packages\\pydub\\playback.py:15\u001b[0m, in \u001b[0;36m_play_with_ffplay\u001b[1;34m(seg)\u001b[0m\n\u001b[0;32m     13\u001b[0m PLAYER \u001b[38;5;241m=\u001b[39m get_player_name()\n\u001b[0;32m     14\u001b[0m \u001b[38;5;28;01mwith\u001b[39;00m NamedTemporaryFile(\u001b[38;5;124m\"\u001b[39m\u001b[38;5;124mw+b\u001b[39m\u001b[38;5;124m\"\u001b[39m, suffix\u001b[38;5;241m=\u001b[39m\u001b[38;5;124m\"\u001b[39m\u001b[38;5;124m.wav\u001b[39m\u001b[38;5;124m\"\u001b[39m) \u001b[38;5;28;01mas\u001b[39;00m f:\n\u001b[1;32m---> 15\u001b[0m     seg\u001b[38;5;241m.\u001b[39mexport(f\u001b[38;5;241m.\u001b[39mname, \u001b[38;5;124m\"\u001b[39m\u001b[38;5;124mwav\u001b[39m\u001b[38;5;124m\"\u001b[39m)\n\u001b[0;32m     16\u001b[0m     subprocess\u001b[38;5;241m.\u001b[39mcall([PLAYER, \u001b[38;5;124m\"\u001b[39m\u001b[38;5;124m-nodisp\u001b[39m\u001b[38;5;124m\"\u001b[39m, \u001b[38;5;124m\"\u001b[39m\u001b[38;5;124m-autoexit\u001b[39m\u001b[38;5;124m\"\u001b[39m, \u001b[38;5;124m\"\u001b[39m\u001b[38;5;124m-hide_banner\u001b[39m\u001b[38;5;124m\"\u001b[39m, f\u001b[38;5;241m.\u001b[39mname])\n",
      "File \u001b[1;32mc:\\Users\\haric\\anaconda3\\Lib\\site-packages\\pydub\\audio_segment.py:867\u001b[0m, in \u001b[0;36mAudioSegment.export\u001b[1;34m(self, out_f, format, codec, bitrate, parameters, tags, id3v2_version, cover)\u001b[0m\n\u001b[0;32m    861\u001b[0m \u001b[38;5;28;01mif\u001b[39;00m \u001b[38;5;28mformat\u001b[39m \u001b[38;5;241m==\u001b[39m \u001b[38;5;124m\"\u001b[39m\u001b[38;5;124mraw\u001b[39m\u001b[38;5;124m\"\u001b[39m \u001b[38;5;129;01mand\u001b[39;00m (codec \u001b[38;5;129;01mis\u001b[39;00m \u001b[38;5;129;01mnot\u001b[39;00m \u001b[38;5;28;01mNone\u001b[39;00m \u001b[38;5;129;01mor\u001b[39;00m parameters \u001b[38;5;129;01mis\u001b[39;00m \u001b[38;5;129;01mnot\u001b[39;00m \u001b[38;5;28;01mNone\u001b[39;00m):\n\u001b[0;32m    862\u001b[0m     \u001b[38;5;28;01mraise\u001b[39;00m \u001b[38;5;167;01mAttributeError\u001b[39;00m(\n\u001b[0;32m    863\u001b[0m             \u001b[38;5;124m'\u001b[39m\u001b[38;5;124mCan not invoke ffmpeg when export format is \u001b[39m\u001b[38;5;124m\"\u001b[39m\u001b[38;5;124mraw\u001b[39m\u001b[38;5;124m\"\u001b[39m\u001b[38;5;124m; \u001b[39m\u001b[38;5;124m'\u001b[39m\n\u001b[0;32m    864\u001b[0m             \u001b[38;5;124m'\u001b[39m\u001b[38;5;124mspecify an ffmpeg raw format like format=\u001b[39m\u001b[38;5;124m\"\u001b[39m\u001b[38;5;124ms16le\u001b[39m\u001b[38;5;124m\"\u001b[39m\u001b[38;5;124m instead \u001b[39m\u001b[38;5;124m'\u001b[39m\n\u001b[0;32m    865\u001b[0m             \u001b[38;5;124m'\u001b[39m\u001b[38;5;124mor call export(format=\u001b[39m\u001b[38;5;124m\"\u001b[39m\u001b[38;5;124mraw\u001b[39m\u001b[38;5;124m\"\u001b[39m\u001b[38;5;124m) with no codec or parameters\u001b[39m\u001b[38;5;124m'\u001b[39m)\n\u001b[1;32m--> 867\u001b[0m out_f, _ \u001b[38;5;241m=\u001b[39m _fd_or_path_or_tempfile(out_f, \u001b[38;5;124m'\u001b[39m\u001b[38;5;124mwb+\u001b[39m\u001b[38;5;124m'\u001b[39m)\n\u001b[0;32m    868\u001b[0m out_f\u001b[38;5;241m.\u001b[39mseek(\u001b[38;5;241m0\u001b[39m)\n\u001b[0;32m    870\u001b[0m \u001b[38;5;28;01mif\u001b[39;00m \u001b[38;5;28mformat\u001b[39m \u001b[38;5;241m==\u001b[39m \u001b[38;5;124m\"\u001b[39m\u001b[38;5;124mraw\u001b[39m\u001b[38;5;124m\"\u001b[39m:\n",
      "File \u001b[1;32mc:\\Users\\haric\\anaconda3\\Lib\\site-packages\\pydub\\utils.py:60\u001b[0m, in \u001b[0;36m_fd_or_path_or_tempfile\u001b[1;34m(fd, mode, tempfile)\u001b[0m\n\u001b[0;32m     57\u001b[0m     close_fd \u001b[38;5;241m=\u001b[39m \u001b[38;5;28;01mTrue\u001b[39;00m\n\u001b[0;32m     59\u001b[0m \u001b[38;5;28;01mif\u001b[39;00m \u001b[38;5;28misinstance\u001b[39m(fd, basestring):\n\u001b[1;32m---> 60\u001b[0m     fd \u001b[38;5;241m=\u001b[39m \u001b[38;5;28mopen\u001b[39m(fd, mode\u001b[38;5;241m=\u001b[39mmode)\n\u001b[0;32m     61\u001b[0m     close_fd \u001b[38;5;241m=\u001b[39m \u001b[38;5;28;01mTrue\u001b[39;00m\n\u001b[0;32m     63\u001b[0m \u001b[38;5;28;01mtry\u001b[39;00m:\n",
      "\u001b[1;31mPermissionError\u001b[0m: [Errno 13] Permission denied: 'C:\\\\Users\\\\haric\\\\AppData\\\\Local\\\\Temp\\\\tmp__yagqkv.wav'"
     ]
    }
   ],
   "source": [
    "import numpy as np\n",
    "from pydub import AudioSegment\n",
    "from pydub.playback import play\n",
    "import os\n",
    "\n",
    "# Function to generate a sine wave for melody or bass\n",
    "def generate_sine_wave(frequency, duration, sample_rate=44100, amplitude=0.5):\n",
    "    t = np.linspace(0, duration, int(sample_rate * duration), False)\n",
    "    wave = amplitude * np.sin(2 * np.pi * frequency * t)\n",
    "    return wave\n",
    "\n",
    "# Function to create a drum-like kick\n",
    "def generate_kick(duration=0.2, sample_rate=44100):\n",
    "    frequency = 50  # Low frequency for kick\n",
    "    wave = generate_sine_wave(frequency, duration, sample_rate, amplitude=0.7)\n",
    "    wave = wave * np.exp(-np.linspace(0, 5, len(wave)))  # Decay effect\n",
    "    return wave\n",
    "\n",
    "# Function to create a snare beat\n",
    "def generate_snare(duration=0.1, sample_rate=44100):\n",
    "    noise = np.random.uniform(-1, 1, int(sample_rate * duration))\n",
    "    envelope = np.linspace(1, 0, len(noise))  # Fade-out effect\n",
    "    snare = noise * envelope * 0.5\n",
    "    return snare\n",
    "\n",
    "# Function to create a hi-hat\n",
    "def generate_hi_hat(duration=0.05, sample_rate=44100):\n",
    "    noise = np.random.uniform(-1, 1, int(sample_rate * duration))\n",
    "    envelope = np.linspace(1, 0.2, len(noise))  # Quick fade\n",
    "    hi_hat = noise * envelope * 0.2\n",
    "    return hi_hat\n",
    "\n",
    "# Function to create a pad-like ambient sound\n",
    "def generate_pad(frequency, duration, sample_rate=44100):\n",
    "    wave = generate_sine_wave(frequency, duration, sample_rate, amplitude=0.4)\n",
    "    modulator = generate_sine_wave(0.25, duration, sample_rate, amplitude=0.3)  # Slow modulation\n",
    "    pad = wave * (1 + modulator)  # Modulated pad\n",
    "    return pad\n",
    "\n",
    "# Function to create melody notes\n",
    "def generate_melody(frequencies, duration, sample_rate=44100):\n",
    "    melody = np.array([])\n",
    "    for freq in frequencies:\n",
    "        wave = generate_sine_wave(freq, duration / len(frequencies), sample_rate, amplitude=0.4)\n",
    "        melody = np.concatenate((melody, wave))\n",
    "    return melody\n",
    "\n",
    "# Combine beats and melody into a track\n",
    "def create_music_track():\n",
    "    sample_rate = 44100\n",
    "    track = np.array([])\n",
    "\n",
    "    # Define drum pattern\n",
    "    drum_pattern = [\n",
    "        (\"kick\", 0.2),\n",
    "        (\"hi_hat\", 0.05),\n",
    "        (\"snare\", 0.1),\n",
    "        (\"hi_hat\", 0.05),\n",
    "    ]\n",
    "\n",
    "    # Define melody and pad\n",
    "    melody_notes = [440, 494, 523, 587, 659, 698, 784]  # A4, B4, C5, D5, E5, F5, G5\n",
    "    pad_frequency = 220  # Low ambient pad frequency\n",
    "\n",
    "    for bar in range(16):  # Repeat for 16 bars\n",
    "        bar_track = np.array([])\n",
    "        \n",
    "        # Add drums\n",
    "        for sound, duration in drum_pattern:\n",
    "            if sound == \"kick\":\n",
    "                beat = generate_kick(duration)\n",
    "            elif sound == \"snare\":\n",
    "                beat = generate_snare(duration)\n",
    "            elif sound == \"hi_hat\":\n",
    "                beat = generate_hi_hat(duration)\n",
    "            else:\n",
    "                beat = np.zeros(int(sample_rate * duration))\n",
    "            bar_track = np.concatenate((bar_track, beat))\n",
    "        \n",
    "        # Add melody and pad every other bar\n",
    "        if bar % 2 == 0:\n",
    "            melody = generate_melody(melody_notes, len(bar_track) / sample_rate, sample_rate)\n",
    "            pad = generate_pad(pad_frequency, len(bar_track) / sample_rate, sample_rate)\n",
    "            if len(bar_track) > len(melody):\n",
    "                melody = np.pad(melody, (0, len(bar_track) - len(melody)))\n",
    "                pad = np.pad(pad, (0, len(bar_track) - len(pad)))\n",
    "            bar_track = bar_track + melody + pad\n",
    "\n",
    "        # Add the bar to the track\n",
    "        track = np.concatenate((track, bar_track))\n",
    "\n",
    "    # Normalize the audio\n",
    "    audio_data = (track * 32767 / np.max(np.abs(track))).astype(np.int16)\n",
    "    return audio_data, sample_rate\n",
    "\n",
    "# Save and play the audio\n",
    "def save_and_play_music(audio_data, sample_rate, filename=\"synth_ambient_track.wav\"):\n",
    "    audio_segment = AudioSegment(\n",
    "        audio_data.tobytes(),\n",
    "        frame_rate=sample_rate,\n",
    "        sample_width=audio_data.dtype.itemsize,\n",
    "        channels=1\n",
    "    )\n",
    "    output_path = os.path.join(os.getcwd(), filename)\n",
    "    audio_segment.export(output_path, format=\"wav\")\n",
    "    print(f\"Music track saved as {output_path}\")\n",
    "    play(audio_segment)\n",
    "\n",
    "# Main script\n",
    "if __name__ == \"__main__\":\n",
    "    print(\"Generating music track...\")\n",
    "    audio_data, sample_rate = create_music_track()\n",
    "    save_and_play_music(audio_data, sample_rate)\n"
   ]
  },
  {
   "cell_type": "code",
   "execution_count": 7,
   "metadata": {},
   "outputs": [
    {
     "ename": "ModuleNotFoundError",
     "evalue": "No module named 'pygame'",
     "output_type": "error",
     "traceback": [
      "\u001b[1;31m---------------------------------------------------------------------------\u001b[0m",
      "\u001b[1;31mModuleNotFoundError\u001b[0m                       Traceback (most recent call last)",
      "Cell \u001b[1;32mIn[7], line 1\u001b[0m\n\u001b[1;32m----> 1\u001b[0m \u001b[38;5;28;01mimport\u001b[39;00m \u001b[38;5;21;01mpygame\u001b[39;00m\n\u001b[0;32m      2\u001b[0m \u001b[38;5;28;01mimport\u001b[39;00m \u001b[38;5;21;01mnumpy\u001b[39;00m \u001b[38;5;28;01mas\u001b[39;00m \u001b[38;5;21;01mnp\u001b[39;00m\n\u001b[0;32m      4\u001b[0m \u001b[38;5;66;03m# Initialize pygame\u001b[39;00m\n",
      "\u001b[1;31mModuleNotFoundError\u001b[0m: No module named 'pygame'"
     ]
    }
   ],
   "source": [
    "import pygame\n",
    "import numpy as np\n",
    "\n",
    "# Initialize pygame\n",
    "pygame.init()\n",
    "\n",
    "# Screen setup\n",
    "screen = pygame.display.set_mode((600, 400))\n",
    "pygame.display.set_caption(\"Virtual Piano\")\n",
    "\n",
    "# Frequencies of musical notes (C4 to C5)\n",
    "NOTE_FREQUENCIES = {\n",
    "    \"a\": 261.63,  # C4\n",
    "    \"s\": 293.66,  # D4\n",
    "    \"d\": 329.63,  # E4\n",
    "    \"f\": 349.23,  # F4\n",
    "    \"g\": 392.00,  # G4\n",
    "    \"h\": 440.00,  # A4\n",
    "    \"j\": 493.88,  # B4\n",
    "    \"k\": 523.25,  # C5\n",
    "}\n",
    "\n",
    "# Generate a sine wave for a given frequency and duration\n",
    "def generate_sine_wave(frequency, duration, sample_rate=44100, amplitude=0.5):\n",
    "    t = np.linspace(0, duration, int(sample_rate * duration), False)\n",
    "    wave = amplitude * np.sin(2 * np.pi * frequency * t)\n",
    "    return (wave * 32767).astype(np.int16)\n",
    "\n",
    "# Function to play a note\n",
    "def play_note(frequency, duration=0.5):\n",
    "    sample_rate = 44100\n",
    "    wave = generate_sine_wave(frequency, duration, sample_rate)\n",
    "    sound = pygame.sndarray.make_sound(wave)\n",
    "    sound.play()\n",
    "\n",
    "# Main loop\n",
    "running = True\n",
    "while running:\n",
    "    screen.fill((255, 255, 255))  # White background\n",
    "    font = pygame.font.Font(None, 36)\n",
    "    text = font.render(\"Press A S D F G H J K to play notes\", True, (0, 0, 0))\n",
    "    screen.blit(text, (50, 150))\n",
    "    pygame.display.flip()\n",
    "\n",
    "    for event in pygame.event.get():\n",
    "        if event.type == pygame.QUIT:\n",
    "            running = False\n",
    "        elif event.type == pygame.KEYDOWN:\n",
    "            key = pygame.key.name(event.key)\n",
    "            if key in NOTE_FREQUENCIES:\n",
    "                play_note(NOTE_FREQUENCIES[key])\n",
    "\n",
    "pygame.quit()\n"
   ]
  },
  {
   "cell_type": "code",
   "execution_count": 8,
   "metadata": {},
   "outputs": [
    {
     "name": "stdout",
     "output_type": "stream",
     "text": [
      "Collecting pygame\n",
      "  Downloading pygame-2.6.1-cp312-cp312-win_amd64.whl.metadata (13 kB)\n",
      "Downloading pygame-2.6.1-cp312-cp312-win_amd64.whl (10.6 MB)\n",
      "   ---------------------------------------- 0.0/10.6 MB ? eta -:--:--\n",
      "   --- ------------------------------------ 1.0/10.6 MB 6.3 MB/s eta 0:00:02\n",
      "   -------- ------------------------------- 2.4/10.6 MB 6.1 MB/s eta 0:00:02\n",
      "   ------------ --------------------------- 3.4/10.6 MB 5.6 MB/s eta 0:00:02\n",
      "   ----------------- ---------------------- 4.7/10.6 MB 5.6 MB/s eta 0:00:02\n",
      "   ------------------- -------------------- 5.2/10.6 MB 5.3 MB/s eta 0:00:02\n",
      "   -------------------- ------------------- 5.5/10.6 MB 4.9 MB/s eta 0:00:02\n",
      "   ------------------------ --------------- 6.6/10.6 MB 4.4 MB/s eta 0:00:01\n",
      "   ----------------------------- ---------- 7.9/10.6 MB 4.6 MB/s eta 0:00:01\n",
      "   ----------------------------------- ---- 9.4/10.6 MB 4.9 MB/s eta 0:00:01\n",
      "   ------------------------------------- -- 10.0/10.6 MB 4.7 MB/s eta 0:00:01\n",
      "   ---------------------------------------- 10.6/10.6 MB 4.5 MB/s eta 0:00:00\n",
      "Installing collected packages: pygame\n",
      "Successfully installed pygame-2.6.1\n"
     ]
    }
   ],
   "source": [
    "!pip install pygame\n"
   ]
  },
  {
   "cell_type": "code",
   "execution_count": null,
   "metadata": {},
   "outputs": [],
   "source": []
  },
  {
   "cell_type": "code",
   "execution_count": 12,
   "metadata": {},
   "outputs": [
    {
     "ename": "ModuleNotFoundError",
     "evalue": "No module named 'moviepy.editor'",
     "output_type": "error",
     "traceback": [
      "\u001b[1;31m---------------------------------------------------------------------------\u001b[0m",
      "\u001b[1;31mModuleNotFoundError\u001b[0m                       Traceback (most recent call last)",
      "Cell \u001b[1;32mIn[12], line 1\u001b[0m\n\u001b[1;32m----> 1\u001b[0m \u001b[38;5;28;01mfrom\u001b[39;00m \u001b[38;5;21;01mmoviepy\u001b[39;00m\u001b[38;5;21;01m.\u001b[39;00m\u001b[38;5;21;01meditor\u001b[39;00m \u001b[38;5;28;01mimport\u001b[39;00m VideoFileClip\n\u001b[0;32m      3\u001b[0m \u001b[38;5;66;03m# Load the video file\u001b[39;00m\n\u001b[0;32m      4\u001b[0m video_path \u001b[38;5;241m=\u001b[39m \u001b[38;5;124m\"\u001b[39m\u001b[38;5;124mC:/Users/haric/Downloads/Book The Rental Wit It.mp4\u001b[39m\u001b[38;5;124m\"\u001b[39m\n",
      "\u001b[1;31mModuleNotFoundError\u001b[0m: No module named 'moviepy.editor'"
     ]
    }
   ],
   "source": [
    "from moviepy.editor import VideoFileClip\n",
    "\n",
    "# Load the video file\n",
    "video_path = \"C:/Users/haric/Downloads/Book The Rental Wit It.mp4\"\n",
    "audio_path = \"extracted_audio.wav\"\n",
    "\n",
    "# Extract audio\n",
    "clip = VideoFileClip(video_path)\n",
    "clip.audio.write_audiofile(audio_path)\n",
    "\n",
    "print(f\"Audio extracted and saved as {audio_path}\")\n"
   ]
  },
  {
   "cell_type": "code",
   "execution_count": 11,
   "metadata": {},
   "outputs": [
    {
     "name": "stdout",
     "output_type": "stream",
     "text": [
      "Collecting moviepy\n",
      "  Downloading moviepy-2.1.1-py3-none-any.whl.metadata (6.9 kB)\n",
      "Requirement already satisfied: decorator<6.0,>=4.0.2 in c:\\users\\haric\\anaconda3\\lib\\site-packages (from moviepy) (5.1.1)\n",
      "Requirement already satisfied: imageio<3.0,>=2.5 in c:\\users\\haric\\anaconda3\\lib\\site-packages (from moviepy) (2.33.1)\n",
      "Collecting imageio_ffmpeg>=0.2.0 (from moviepy)\n",
      "  Downloading imageio_ffmpeg-0.5.1-py3-none-win_amd64.whl.metadata (1.6 kB)\n",
      "Requirement already satisfied: numpy>=1.25.0 in c:\\users\\haric\\anaconda3\\lib\\site-packages (from moviepy) (2.0.0)\n",
      "Collecting proglog<=1.0.0 (from moviepy)\n",
      "  Downloading proglog-0.1.10-py3-none-any.whl.metadata (639 bytes)\n",
      "Requirement already satisfied: python-dotenv>=0.10 in c:\\users\\haric\\anaconda3\\lib\\site-packages (from moviepy) (0.21.0)\n",
      "Requirement already satisfied: pillow<11.0,>=9.2.0 in c:\\users\\haric\\anaconda3\\lib\\site-packages (from moviepy) (10.4.0)\n",
      "Requirement already satisfied: setuptools in c:\\users\\haric\\anaconda3\\lib\\site-packages (from imageio_ffmpeg>=0.2.0->moviepy) (75.1.0)\n",
      "Requirement already satisfied: tqdm in c:\\users\\haric\\anaconda3\\lib\\site-packages (from proglog<=1.0.0->moviepy) (4.66.4)\n",
      "Requirement already satisfied: colorama in c:\\users\\haric\\anaconda3\\lib\\site-packages (from tqdm->proglog<=1.0.0->moviepy) (0.4.6)\n",
      "Downloading moviepy-2.1.1-py3-none-any.whl (123 kB)\n",
      "Downloading imageio_ffmpeg-0.5.1-py3-none-win_amd64.whl (22.6 MB)\n",
      "   ---------------------------------------- 0.0/22.6 MB ? eta -:--:--\n",
      "   ---------------------------------------- 0.3/22.6 MB ? eta -:--:--\n",
      "   - -------------------------------------- 0.8/22.6 MB 2.4 MB/s eta 0:00:10\n",
      "   -- ------------------------------------- 1.6/22.6 MB 2.9 MB/s eta 0:00:08\n",
      "   ----- ---------------------------------- 2.9/22.6 MB 3.7 MB/s eta 0:00:06\n",
      "   ------ --------------------------------- 3.9/22.6 MB 4.1 MB/s eta 0:00:05\n",
      "   -------- ------------------------------- 4.7/22.6 MB 4.1 MB/s eta 0:00:05\n",
      "   ---------- ----------------------------- 6.0/22.6 MB 4.4 MB/s eta 0:00:04\n",
      "   ----------- ---------------------------- 6.3/22.6 MB 4.5 MB/s eta 0:00:04\n",
      "   ------------ --------------------------- 7.1/22.6 MB 4.0 MB/s eta 0:00:04\n",
      "   -------------- ------------------------- 8.1/22.6 MB 4.1 MB/s eta 0:00:04\n",
      "   --------------- ------------------------ 8.9/22.6 MB 4.1 MB/s eta 0:00:04\n",
      "   ---------------- ----------------------- 9.2/22.6 MB 4.1 MB/s eta 0:00:04\n",
      "   ---------------- ----------------------- 9.2/22.6 MB 4.1 MB/s eta 0:00:04\n",
      "   ---------------- ----------------------- 9.4/22.6 MB 3.4 MB/s eta 0:00:04\n",
      "   ------------------ --------------------- 10.5/22.6 MB 3.5 MB/s eta 0:00:04\n",
      "   ------------------- -------------------- 11.3/22.6 MB 3.5 MB/s eta 0:00:04\n",
      "   --------------------- ------------------ 12.3/22.6 MB 3.6 MB/s eta 0:00:03\n",
      "   ----------------------- ---------------- 13.4/22.6 MB 3.7 MB/s eta 0:00:03\n",
      "   ------------------------- -------------- 14.2/22.6 MB 3.8 MB/s eta 0:00:03\n",
      "   -------------------------- ------------- 14.9/22.6 MB 3.7 MB/s eta 0:00:03\n",
      "   ---------------------------- ----------- 16.0/22.6 MB 3.7 MB/s eta 0:00:02\n",
      "   ---------------------------- ----------- 16.3/22.6 MB 3.7 MB/s eta 0:00:02\n",
      "   ---------------------------- ----------- 16.3/22.6 MB 3.7 MB/s eta 0:00:02\n",
      "   ------------------------------ --------- 17.0/22.6 MB 3.5 MB/s eta 0:00:02\n",
      "   -------------------------------- ------- 18.4/22.6 MB 3.6 MB/s eta 0:00:02\n",
      "   ---------------------------------- ----- 19.4/22.6 MB 3.7 MB/s eta 0:00:01\n",
      "   ------------------------------------ --- 20.4/22.6 MB 3.7 MB/s eta 0:00:01\n",
      "   -------------------------------------- - 21.5/22.6 MB 3.8 MB/s eta 0:00:01\n",
      "   ---------------------------------------  22.5/22.6 MB 3.8 MB/s eta 0:00:01\n",
      "   ---------------------------------------- 22.6/22.6 MB 3.8 MB/s eta 0:00:00\n",
      "Downloading proglog-0.1.10-py3-none-any.whl (6.1 kB)\n",
      "Installing collected packages: imageio_ffmpeg, proglog, moviepy\n",
      "Successfully installed imageio_ffmpeg-0.5.1 moviepy-2.1.1 proglog-0.1.10\n"
     ]
    }
   ],
   "source": [
    "!pip install moviepy"
   ]
  },
  {
   "cell_type": "code",
   "execution_count": 1,
   "metadata": {},
   "outputs": [],
   "source": [
    "import latexify"
   ]
  },
  {
   "cell_type": "code",
   "execution_count": 35,
   "metadata": {},
   "outputs": [
    {
     "data": {
      "text/latex": [
       "$$ \\displaystyle \\begin{array}{l} x = x + 1 \\\\ y = x + x \\\\ x = \\mathrm{round} \\mathopen{}\\left( y \\cdot 12 \\mathclose{}\\right) \\\\ \\mathrm{add}(x) = x \\end{array} $$"
      ],
      "text/plain": [
       "<latexify.ipython_wrappers.LatexifiedFunction at 0x29b7cca5c40>"
      ]
     },
     "execution_count": 35,
     "metadata": {},
     "output_type": "execute_result"
    }
   ],
   "source": [
    "@latexify.function\n",
    "def add(x):\n",
    "      x=x+1\n",
    "      y=x+x\n",
    "      x=round(y*12)\n",
    "      return x\n",
    "\n",
    "      \n",
    "\n",
    "add"
   ]
  },
  {
   "cell_type": "code",
   "execution_count": null,
   "metadata": {},
   "outputs": [],
   "source": []
  },
  {
   "cell_type": "code",
   "execution_count": null,
   "metadata": {},
   "outputs": [],
   "source": []
  }
 ],
 "metadata": {
  "kernelspec": {
   "display_name": "base",
   "language": "python",
   "name": "python3"
  },
  "language_info": {
   "codemirror_mode": {
    "name": "ipython",
    "version": 3
   },
   "file_extension": ".py",
   "mimetype": "text/x-python",
   "name": "python",
   "nbconvert_exporter": "python",
   "pygments_lexer": "ipython3",
   "version": "3.12.7"
  }
 },
 "nbformat": 4,
 "nbformat_minor": 2
}

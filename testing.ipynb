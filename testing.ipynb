{
 "cells": [
  {
   "cell_type": "markdown",
   "metadata": {},
   "source": []
  },
  {
   "cell_type": "markdown",
   "metadata": {},
   "source": [
    "| **Pros**                                      | **Cons**                                      |\n",
    "|-----------------------------------------------|-----------------------------------------------|\n",
    "| Great value for money                         | Weak 2W built-in speakers                     |\n",
    "| Good viewing angles                           | Limited connectivity (only HDMI & DisplayPort)|\n",
    "| 1080p resolution & 100Hz refresh rate          | No Type-C port                                |\n",
    "| Auto brightness feature                       | Not ideal for gaming or entertainment         |\n",
    "| BenQ's own software (eye-care modes, etc.)     |                                               |\n",
    "\n",
    "## Conclusion\n",
    "Ideal for educational use, coding, and work-from-home setups, but lacking in audio quality and modern connectivity options.\n"
   ]
  },
  {
   "cell_type": "code",
   "execution_count": null,
   "metadata": {},
   "outputs": [],
   "source": []
  }
 ],
 "metadata": {
  "kernelspec": {
   "display_name": "base",
   "language": "python",
   "name": "python3"
  },
  "language_info": {
   "codemirror_mode": {
    "name": "ipython",
    "version": 3
   },
   "file_extension": ".py",
   "mimetype": "text/x-python",
   "name": "python",
   "nbconvert_exporter": "python",
   "pygments_lexer": "ipython3",
   "version": "3.12.7"
  }
 },
 "nbformat": 4,
 "nbformat_minor": 2
}
